{
 "cells": [
  {
   "cell_type": "code",
   "execution_count": 1,
   "id": "a3f26319",
   "metadata": {},
   "outputs": [],
   "source": [
    "from bs4 import BeautifulSoup\n",
    "import requests\n",
    "import smtplib\n",
    "import time\n",
    "import datetime\n",
    "import csv\n",
    "import pandas as pd"
   ]
  },
  {
   "cell_type": "code",
   "execution_count": 2,
   "id": "2f9f1667",
   "metadata": {},
   "outputs": [
    {
     "name": "stdout",
     "output_type": "stream",
     "text": [
      "\n",
      "            Sony WH-1000XM5 Wireless Industry Leading Noise Canceling Headphones with Auto Noise Canceling Optimizer, Crystal Clear Hands-Free Calling, and Alexa Voice Control, Black\n",
      "           \n",
      "\n",
      "                         $398.00\n",
      "                        \n"
     ]
    }
   ],
   "source": [
    "# connect to website\n",
    "\n",
    "URL = \"https://www.amazon.com/Sony-WH-1000XM5-Canceling-Headphones-Hands-Free/dp/B09XS7JWHH/ref=sr_1_3?keywords=sony+wh-1000xm5&qid=1660782293&sprefix=sony+%2Caps%2C287&sr=8-3\"\n",
    "\n",
    "headers = {\"User-Agent\": \"Mozilla/5.0 (Windows NT 10.0; Win64; x64) AppleWebKit/537.36 (KHTML, like Gecko) Chrome/104.0.0.0 Safari/537.36\" , \"Accept-Encoding\":\"gzip, deflate\", \"Accept\":\"text/html,application/xhtml+xml,application/xml;q=0.9,*/*;q=0.8\\\",\", \"DNT\":\"1\",\"Connection\":\"close\", \"Upgrade-Insecure-Requests\":\"1\"}\n",
    "           \n",
    "page = requests.get(URL, headers = headers)\n",
    "\n",
    "\n",
    "soup1 = BeautifulSoup(page.content, \"html.parser\")\n",
    "\n",
    "soup2 = BeautifulSoup(soup1.prettify(), \"html.parser\")\n",
    "\n",
    "#acquire product title\n",
    "title = soup2.find(id='productTitle').get_text()\n",
    "\n",
    "#acquire product price\n",
    "price = soup2.find('span', {'class':'a-offscreen'}).get_text()\n",
    "\n",
    "print(title)\n",
    "print(price)\n"
   ]
  },
  {
   "cell_type": "code",
   "execution_count": 3,
   "id": "d8983333",
   "metadata": {},
   "outputs": [
    {
     "name": "stdout",
     "output_type": "stream",
     "text": [
      "2022-08-18\n"
     ]
    }
   ],
   "source": [
    "today = datetime.date.today()\n",
    "\n",
    "print(today)"
   ]
  },
  {
   "cell_type": "code",
   "execution_count": 4,
   "id": "ed2ed8dc",
   "metadata": {},
   "outputs": [
    {
     "name": "stdout",
     "output_type": "stream",
     "text": [
      "Sony WH-1000XM5 Wireless Industry Leading Noise Canceling Headphones with Auto Noise Canceling Optimizer, Crystal Clear Hands-Free Calling, and Alexa Voice Control, Black\n",
      "398.00\n"
     ]
    }
   ],
   "source": [
    "#remove formatting + dollar sign\n",
    "price = price.strip()[1:]\n",
    "title = title.strip()\n",
    "\n",
    "print(title)\n",
    "print(price)"
   ]
  },
  {
   "cell_type": "code",
   "execution_count": 5,
   "id": "df4bd480",
   "metadata": {},
   "outputs": [],
   "source": [
    "#write data to csv file\n",
    "\n",
    "header = ['Title', 'Price','Date']\n",
    "data = [title, price,today]\n",
    "\n",
    "with open('AmazonScraperDataset.csv', 'w', newline= '', encoding= 'UTF8') as f:\n",
    "    writer = csv.writer(f)\n",
    "    writer.writerow(header)\n",
    "    writer.writerow(data)"
   ]
  },
  {
   "cell_type": "code",
   "execution_count": 6,
   "id": "ee75a9ef",
   "metadata": {},
   "outputs": [
    {
     "name": "stdout",
     "output_type": "stream",
     "text": [
      "                                               Title  Price        Date\n",
      "0  Sony WH-1000XM5 Wireless Industry Leading Nois...  398.0  2022-08-18\n"
     ]
    }
   ],
   "source": [
    "df = pd.read_csv(r'C:\\Users\\xande\\Portfolio Projects\\AmazonScraperDataset.csv')\n",
    "\n",
    "print(df)"
   ]
  },
  {
   "cell_type": "code",
   "execution_count": 8,
   "id": "fe69d525",
   "metadata": {},
   "outputs": [],
   "source": [
    "#append data to csv\n",
    "\n",
    "header = ['Title', 'Price','Date']\n",
    "data = [title, price,today]\n",
    "\n",
    "with open('AmazonScraperDataset.csv', 'a+', newline= '', encoding= 'UTF8') as f:\n",
    "    writer = csv.writer(f)\n",
    "    writer.writerow(data)"
   ]
  },
  {
   "cell_type": "code",
   "execution_count": 11,
   "id": "a3a52eea",
   "metadata": {},
   "outputs": [],
   "source": [
    "#made into function to combine all steps and add multi-product support\n",
    "\n",
    "URLS = [\"https://www.amazon.com/Sony-WH-1000XM5-Canceling-Headphones-Hands-Free/dp/B09XS7JWHH/ref=sr_1_3?keywords=sony+wh-1000xm5&qid=1660782293&sprefix=sony+%2Caps%2C287&sr=8-3\",\"https://www.amazon.com/Sony-WH-1000XM4-Canceling-Headphones-phone-call/dp/B0863TXGM3/ref=sr_1_5?keywords=noise+cancelling+headphones+sony+wh1000xm5&qid=1660873316&sprefix=noise+cancelling+headphones+sony+w%2Caps%2C336&sr=8-5\",\"https://www.amazon.com/Bose-Cancelling-Wireless-Bluetooth-Headphones/dp/B07Q9MJKBV/ref=sr_1_4?crid=25AIA05ZQ26E4&keywords=noise+cancelling+headphones+bose&qid=1660873337&sprefix=noise+cancelling+headphones+%2Caps%2C295&sr=8-4\",\"https://www.amazon.com/Bose-QuietComfort-45-Bluetooth-Canceling-Headphones/dp/B098FKXT8L/ref=sr_1_3?crid=25AIA05ZQ26E4&keywords=noise+cancelling+headphones+bose&qid=1660873337&sprefix=noise+cancelling+headphones+%2Caps%2C295&sr=8-3\"]\n",
    "\n",
    "def get_prices(URLS):\n",
    "   \n",
    "\n",
    "    for url in URLS:\n",
    "        URL = url\n",
    "        headers = {\"User-Agent\": \"Mozilla/5.0 (Windows NT 10.0; Win64; x64) AppleWebKit/537.36 (KHTML, like Gecko) Chrome/104.0.0.0 Safari/537.36\" , \"Accept-Encoding\":\"gzip, deflate\", \"Accept\":\"text/html,application/xhtml+xml,application/xml;q=0.9,*/*;q=0.8\\\",\", \"DNT\":\"1\",\"Connection\":\"close\", \"Upgrade-Insecure-Requests\":\"1\"}\n",
    "           \n",
    "        page = requests.get(URL, headers = headers)\n",
    "\n",
    "        soup1 = BeautifulSoup(page.content, \"html.parser\")\n",
    "\n",
    "        soup2 = BeautifulSoup(soup1.prettify(), \"html.parser\")\n",
    "\n",
    "        title = soup2.find(id='productTitle').get_text()\n",
    "\n",
    "        price = soup2.find('span', {'class':'a-offscreen'}).get_text()\n",
    "    \n",
    "        price = price.strip()[1:]\n",
    "        title = title.strip()\n",
    "    \n",
    "        today = datetime.date.today()\n",
    "    \n",
    "        header = ['Title', 'Price','Date']\n",
    "        data = [title, price,today]\n",
    "    \n",
    "        with open('AmazonScraperDataset.csv', 'a+', newline= '', encoding= 'UTF8') as f:\n",
    "            writer = csv.writer(f)\n",
    "            writer.writerow(data)"
   ]
  },
  {
   "cell_type": "code",
   "execution_count": null,
   "id": "ec5cd50b",
   "metadata": {},
   "outputs": [],
   "source": [
    "# run the function every 24 hours\n",
    "while(True):\n",
    "    get_prices(URLS)\n",
    "    time.sleep(86400)"
   ]
  },
  {
   "cell_type": "code",
   "execution_count": null,
   "id": "22eac252",
   "metadata": {},
   "outputs": [],
   "source": []
  }
 ],
 "metadata": {
  "kernelspec": {
   "display_name": "Python 3 (ipykernel)",
   "language": "python",
   "name": "python3"
  },
  "language_info": {
   "codemirror_mode": {
    "name": "ipython",
    "version": 3
   },
   "file_extension": ".py",
   "mimetype": "text/x-python",
   "name": "python",
   "nbconvert_exporter": "python",
   "pygments_lexer": "ipython3",
   "version": "3.9.12"
  }
 },
 "nbformat": 4,
 "nbformat_minor": 5
}
